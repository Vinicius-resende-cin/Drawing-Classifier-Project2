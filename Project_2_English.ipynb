{
  "nbformat": 4,
  "nbformat_minor": 0,
  "metadata": {
    "colab": {
      "provenance": [],
      "collapsed_sections": [],
      "authorship_tag": "ABX9TyMonLHkFjpGCbMmTgepX4xi",
      "include_colab_link": true
    },
    "kernelspec": {
      "name": "python3",
      "display_name": "Python 3"
    },
    "language_info": {
      "name": "python"
    },
    "accelerator": "GPU"
  },
  "cells": [
    {
      "cell_type": "markdown",
      "metadata": {
        "id": "view-in-github",
        "colab_type": "text"
      },
      "source": [
        "<a href=\"https://colab.research.google.com/github/Vinicius-resende-cin/Drawing-Classifier-Project2/blob/main/Project_2_English.ipynb\" target=\"_parent\"><img src=\"https://colab.research.google.com/assets/colab-badge.svg\" alt=\"Open In Colab\"/></a>"
      ]
    },
    {
      "cell_type": "markdown",
      "source": [
        "# Drawing Classifier"
      ],
      "metadata": {
        "id": "qmNZRUj5K0Aw"
      }
    },
    {
      "cell_type": "markdown",
      "source": [
        "A simple app to run the model trained in the 2nd chapter of the fastai course's book as a miniproject"
      ],
      "metadata": {
        "id": "OVjeoRAlKzD3"
      }
    },
    {
      "cell_type": "code",
      "source": [
        "!pip install voila\n",
        "!jupyter serverextension enable --sys-prefix voila\n",
        "from fastai.vision.all import *\n",
        "from fastai.vision.widgets import *"
      ],
      "metadata": {
        "id": "EG5jg904LkaO"
      },
      "execution_count": null,
      "outputs": []
    },
    {
      "cell_type": "code",
      "source": [
        "path = Path()\n",
        "learn_inf = load_learner(path/'export.pkl', cpu=True)\n",
        "btn_upload = widgets.FileUpload()\n",
        "out_pl = widgets.Output()\n",
        "lbl_pred = widgets.Label()"
      ],
      "metadata": {
        "id": "1BBCHIGGL3O_"
      },
      "execution_count": null,
      "outputs": []
    },
    {
      "cell_type": "code",
      "source": [
        "def on_data_change(change):\n",
        "    lbl_pred.value = ''\n",
        "    img = PILImage.create(btn_upload.data[-1])\n",
        "    out_pl.clear_output()\n",
        "    with out_pl: display(img.to_thumb(128,128))\n",
        "    pred,pred_idx,probs = learn_inf.predict(img)\n",
        "    lbl_pred.value = f'Prediction: {pred}; Probability: {probs[pred_idx]:.04f}'"
      ],
      "metadata": {
        "id": "zGeiuz8lLOd_"
      },
      "execution_count": null,
      "outputs": []
    },
    {
      "cell_type": "code",
      "source": [
        "btn_upload.observe(on_data_change, names=['data'])"
      ],
      "metadata": {
        "id": "nE1TPiOdLPKv"
      },
      "execution_count": null,
      "outputs": []
    },
    {
      "cell_type": "code",
      "source": [
        "display(VBox([widgets.Label('Select your drawing!'), btn_upload, out_pl, lbl_pred]))"
      ],
      "metadata": {
        "id": "b5-asw6ILPPH"
      },
      "execution_count": null,
      "outputs": []
    }
  ]
}