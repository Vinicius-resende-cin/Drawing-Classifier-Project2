{
  "nbformat": 4,
  "nbformat_minor": 0,
  "metadata": {
    "colab": {
      "provenance": [],
      "collapsed_sections": [],
      "mount_file_id": "https://github.com/Vinicius-resende-cin/Drawing-Classifier-Project2/blob/main/Project_2_English.ipynb",
      "authorship_tag": "ABX9TyOy5/yTVcypnRN5Wl4ZUYJD",
      "include_colab_link": true
    },
    "kernelspec": {
      "name": "python3",
      "display_name": "Python 3"
    },
    "language_info": {
      "name": "python"
    },
    "accelerator": "GPU",
    "widgets": {
      "application/vnd.jupyter.widget-state+json": {
        "bd22e677c64848a6af18357b37b2d057": {
          "model_module": "@jupyter-widgets/controls",
          "model_name": "VBoxModel",
          "model_module_version": "1.5.0",
          "state": {
            "_dom_classes": [],
            "_model_module": "@jupyter-widgets/controls",
            "_model_module_version": "1.5.0",
            "_model_name": "VBoxModel",
            "_view_count": null,
            "_view_module": "@jupyter-widgets/controls",
            "_view_module_version": "1.5.0",
            "_view_name": "VBoxView",
            "box_style": "",
            "children": [
              "IPY_MODEL_75bc4166a06340aab2c56592d38de2a9",
              "IPY_MODEL_0357d57dd2f747328aabd4d6007f92a8",
              "IPY_MODEL_092b1c15d4d34b4f8781e60a39f18f2c",
              "IPY_MODEL_ce6a5b6e9eda43f48f321bbd279a6e05"
            ],
            "layout": "IPY_MODEL_adbb2f9a242741a7a44f37b2a9c83d53"
          }
        },
        "75bc4166a06340aab2c56592d38de2a9": {
          "model_module": "@jupyter-widgets/controls",
          "model_name": "LabelModel",
          "model_module_version": "1.5.0",
          "state": {
            "_dom_classes": [],
            "_model_module": "@jupyter-widgets/controls",
            "_model_module_version": "1.5.0",
            "_model_name": "LabelModel",
            "_view_count": null,
            "_view_module": "@jupyter-widgets/controls",
            "_view_module_version": "1.5.0",
            "_view_name": "LabelView",
            "description": "",
            "description_tooltip": null,
            "layout": "IPY_MODEL_f1768fc2fee148319e8af28a181721c1",
            "placeholder": "​",
            "style": "IPY_MODEL_ad88c5a4210842f9a686f868891a2425",
            "value": "Select your drawing!"
          }
        },
        "0357d57dd2f747328aabd4d6007f92a8": {
          "model_module": "@jupyter-widgets/controls",
          "model_name": "FileUploadModel",
          "model_module_version": "1.5.0",
          "state": {
            "_counter": 5,
            "_dom_classes": [],
            "_model_module": "@jupyter-widgets/controls",
            "_model_module_version": "1.5.0",
            "_model_name": "FileUploadModel",
            "_view_count": null,
            "_view_module": "@jupyter-widgets/controls",
            "_view_module_version": "1.5.0",
            "_view_name": "FileUploadView",
            "accept": "",
            "button_style": "",
            "data": [
              null
            ],
            "description": "Upload",
            "description_tooltip": null,
            "disabled": false,
            "error": "",
            "icon": "upload",
            "layout": "IPY_MODEL_59dad6bb8f184502a0984e98b36a9f0d",
            "metadata": [
              {
                "name": "aa95a867bad5643fa7360de593206723.jpg",
                "type": "image/jpeg",
                "size": 38936,
                "lastModified": 1665159206066
              }
            ],
            "multiple": false,
            "style": "IPY_MODEL_bf149ec537094edbb499e7a431fa7d9b"
          }
        },
        "092b1c15d4d34b4f8781e60a39f18f2c": {
          "model_module": "@jupyter-widgets/output",
          "model_name": "OutputModel",
          "model_module_version": "1.0.0",
          "state": {
            "_dom_classes": [],
            "_model_module": "@jupyter-widgets/output",
            "_model_module_version": "1.0.0",
            "_model_name": "OutputModel",
            "_view_count": null,
            "_view_module": "@jupyter-widgets/output",
            "_view_module_version": "1.0.0",
            "_view_name": "OutputView",
            "layout": "IPY_MODEL_3ebd6a53aefe48248ec901405916f58a",
            "msg_id": "",
            "outputs": [
              {
                "output_type": "display_data",
                "data": {
                  "text/plain": "<PIL.Image.Image image mode=RGB size=128x124>",
                  "image/png": "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\n"
                },
                "metadata": {}
              }
            ]
          }
        },
        "ce6a5b6e9eda43f48f321bbd279a6e05": {
          "model_module": "@jupyter-widgets/controls",
          "model_name": "LabelModel",
          "model_module_version": "1.5.0",
          "state": {
            "_dom_classes": [],
            "_model_module": "@jupyter-widgets/controls",
            "_model_module_version": "1.5.0",
            "_model_name": "LabelModel",
            "_view_count": null,
            "_view_module": "@jupyter-widgets/controls",
            "_view_module_version": "1.5.0",
            "_view_name": "LabelView",
            "description": "",
            "description_tooltip": null,
            "layout": "IPY_MODEL_9a0be6a63e7d4db69fb831dbfe011fa4",
            "placeholder": "​",
            "style": "IPY_MODEL_29db6d763dca4fa3ac2ec2386e38ed4c",
            "value": "Prediction: cartoon; Probability: 0.9742"
          }
        },
        "adbb2f9a242741a7a44f37b2a9c83d53": {
          "model_module": "@jupyter-widgets/base",
          "model_name": "LayoutModel",
          "model_module_version": "1.2.0",
          "state": {
            "_model_module": "@jupyter-widgets/base",
            "_model_module_version": "1.2.0",
            "_model_name": "LayoutModel",
            "_view_count": null,
            "_view_module": "@jupyter-widgets/base",
            "_view_module_version": "1.2.0",
            "_view_name": "LayoutView",
            "align_content": null,
            "align_items": null,
            "align_self": null,
            "border": null,
            "bottom": null,
            "display": null,
            "flex": null,
            "flex_flow": null,
            "grid_area": null,
            "grid_auto_columns": null,
            "grid_auto_flow": null,
            "grid_auto_rows": null,
            "grid_column": null,
            "grid_gap": null,
            "grid_row": null,
            "grid_template_areas": null,
            "grid_template_columns": null,
            "grid_template_rows": null,
            "height": null,
            "justify_content": null,
            "justify_items": null,
            "left": null,
            "margin": null,
            "max_height": null,
            "max_width": null,
            "min_height": null,
            "min_width": null,
            "object_fit": null,
            "object_position": null,
            "order": null,
            "overflow": null,
            "overflow_x": null,
            "overflow_y": null,
            "padding": null,
            "right": null,
            "top": null,
            "visibility": null,
            "width": null
          }
        },
        "f1768fc2fee148319e8af28a181721c1": {
          "model_module": "@jupyter-widgets/base",
          "model_name": "LayoutModel",
          "model_module_version": "1.2.0",
          "state": {
            "_model_module": "@jupyter-widgets/base",
            "_model_module_version": "1.2.0",
            "_model_name": "LayoutModel",
            "_view_count": null,
            "_view_module": "@jupyter-widgets/base",
            "_view_module_version": "1.2.0",
            "_view_name": "LayoutView",
            "align_content": null,
            "align_items": null,
            "align_self": null,
            "border": null,
            "bottom": null,
            "display": null,
            "flex": null,
            "flex_flow": null,
            "grid_area": null,
            "grid_auto_columns": null,
            "grid_auto_flow": null,
            "grid_auto_rows": null,
            "grid_column": null,
            "grid_gap": null,
            "grid_row": null,
            "grid_template_areas": null,
            "grid_template_columns": null,
            "grid_template_rows": null,
            "height": null,
            "justify_content": null,
            "justify_items": null,
            "left": null,
            "margin": null,
            "max_height": null,
            "max_width": null,
            "min_height": null,
            "min_width": null,
            "object_fit": null,
            "object_position": null,
            "order": null,
            "overflow": null,
            "overflow_x": null,
            "overflow_y": null,
            "padding": null,
            "right": null,
            "top": null,
            "visibility": null,
            "width": null
          }
        },
        "ad88c5a4210842f9a686f868891a2425": {
          "model_module": "@jupyter-widgets/controls",
          "model_name": "DescriptionStyleModel",
          "model_module_version": "1.5.0",
          "state": {
            "_model_module": "@jupyter-widgets/controls",
            "_model_module_version": "1.5.0",
            "_model_name": "DescriptionStyleModel",
            "_view_count": null,
            "_view_module": "@jupyter-widgets/base",
            "_view_module_version": "1.2.0",
            "_view_name": "StyleView",
            "description_width": ""
          }
        },
        "59dad6bb8f184502a0984e98b36a9f0d": {
          "model_module": "@jupyter-widgets/base",
          "model_name": "LayoutModel",
          "model_module_version": "1.2.0",
          "state": {
            "_model_module": "@jupyter-widgets/base",
            "_model_module_version": "1.2.0",
            "_model_name": "LayoutModel",
            "_view_count": null,
            "_view_module": "@jupyter-widgets/base",
            "_view_module_version": "1.2.0",
            "_view_name": "LayoutView",
            "align_content": null,
            "align_items": null,
            "align_self": null,
            "border": null,
            "bottom": null,
            "display": null,
            "flex": null,
            "flex_flow": null,
            "grid_area": null,
            "grid_auto_columns": null,
            "grid_auto_flow": null,
            "grid_auto_rows": null,
            "grid_column": null,
            "grid_gap": null,
            "grid_row": null,
            "grid_template_areas": null,
            "grid_template_columns": null,
            "grid_template_rows": null,
            "height": null,
            "justify_content": null,
            "justify_items": null,
            "left": null,
            "margin": null,
            "max_height": null,
            "max_width": null,
            "min_height": null,
            "min_width": null,
            "object_fit": null,
            "object_position": null,
            "order": null,
            "overflow": null,
            "overflow_x": null,
            "overflow_y": null,
            "padding": null,
            "right": null,
            "top": null,
            "visibility": null,
            "width": null
          }
        },
        "bf149ec537094edbb499e7a431fa7d9b": {
          "model_module": "@jupyter-widgets/controls",
          "model_name": "ButtonStyleModel",
          "model_module_version": "1.5.0",
          "state": {
            "_model_module": "@jupyter-widgets/controls",
            "_model_module_version": "1.5.0",
            "_model_name": "ButtonStyleModel",
            "_view_count": null,
            "_view_module": "@jupyter-widgets/base",
            "_view_module_version": "1.2.0",
            "_view_name": "StyleView",
            "button_color": null,
            "font_weight": ""
          }
        },
        "9a0be6a63e7d4db69fb831dbfe011fa4": {
          "model_module": "@jupyter-widgets/base",
          "model_name": "LayoutModel",
          "model_module_version": "1.2.0",
          "state": {
            "_model_module": "@jupyter-widgets/base",
            "_model_module_version": "1.2.0",
            "_model_name": "LayoutModel",
            "_view_count": null,
            "_view_module": "@jupyter-widgets/base",
            "_view_module_version": "1.2.0",
            "_view_name": "LayoutView",
            "align_content": null,
            "align_items": null,
            "align_self": null,
            "border": null,
            "bottom": null,
            "display": null,
            "flex": null,
            "flex_flow": null,
            "grid_area": null,
            "grid_auto_columns": null,
            "grid_auto_flow": null,
            "grid_auto_rows": null,
            "grid_column": null,
            "grid_gap": null,
            "grid_row": null,
            "grid_template_areas": null,
            "grid_template_columns": null,
            "grid_template_rows": null,
            "height": null,
            "justify_content": null,
            "justify_items": null,
            "left": null,
            "margin": null,
            "max_height": null,
            "max_width": null,
            "min_height": null,
            "min_width": null,
            "object_fit": null,
            "object_position": null,
            "order": null,
            "overflow": null,
            "overflow_x": null,
            "overflow_y": null,
            "padding": null,
            "right": null,
            "top": null,
            "visibility": null,
            "width": null
          }
        },
        "29db6d763dca4fa3ac2ec2386e38ed4c": {
          "model_module": "@jupyter-widgets/controls",
          "model_name": "DescriptionStyleModel",
          "model_module_version": "1.5.0",
          "state": {
            "_model_module": "@jupyter-widgets/controls",
            "_model_module_version": "1.5.0",
            "_model_name": "DescriptionStyleModel",
            "_view_count": null,
            "_view_module": "@jupyter-widgets/base",
            "_view_module_version": "1.2.0",
            "_view_name": "StyleView",
            "description_width": ""
          }
        },
        "3ebd6a53aefe48248ec901405916f58a": {
          "model_module": "@jupyter-widgets/base",
          "model_name": "LayoutModel",
          "model_module_version": "1.2.0",
          "state": {
            "_model_module": "@jupyter-widgets/base",
            "_model_module_version": "1.2.0",
            "_model_name": "LayoutModel",
            "_view_count": null,
            "_view_module": "@jupyter-widgets/base",
            "_view_module_version": "1.2.0",
            "_view_name": "LayoutView",
            "align_content": null,
            "align_items": null,
            "align_self": null,
            "border": null,
            "bottom": null,
            "display": null,
            "flex": null,
            "flex_flow": null,
            "grid_area": null,
            "grid_auto_columns": null,
            "grid_auto_flow": null,
            "grid_auto_rows": null,
            "grid_column": null,
            "grid_gap": null,
            "grid_row": null,
            "grid_template_areas": null,
            "grid_template_columns": null,
            "grid_template_rows": null,
            "height": null,
            "justify_content": null,
            "justify_items": null,
            "left": null,
            "margin": null,
            "max_height": null,
            "max_width": null,
            "min_height": null,
            "min_width": null,
            "object_fit": null,
            "object_position": null,
            "order": null,
            "overflow": null,
            "overflow_x": null,
            "overflow_y": null,
            "padding": null,
            "right": null,
            "top": null,
            "visibility": null,
            "width": null
          }
        }
      }
    }
  },
  "cells": [
    {
      "cell_type": "markdown",
      "metadata": {
        "id": "view-in-github",
        "colab_type": "text"
      },
      "source": [
        "<a href=\"https://colab.research.google.com/github/Vinicius-resende-cin/Drawing-Classifier-Project2/blob/main/Project_2_English.ipynb\" target=\"_parent\"><img src=\"https://colab.research.google.com/assets/colab-badge.svg\" alt=\"Open In Colab\"/></a>"
      ]
    },
    {
      "cell_type": "markdown",
      "source": [
        "# Drawing Classifier"
      ],
      "metadata": {
        "id": "qmNZRUj5K0Aw"
      }
    },
    {
      "cell_type": "markdown",
      "source": [
        "A simple app to run the model trained in the 2nd chapter of the fastai course's book as a miniproject"
      ],
      "metadata": {
        "id": "OVjeoRAlKzD3"
      }
    },
    {
      "cell_type": "code",
      "source": [
        "from fastai.vision.all import *\n",
        "from fastai.vision.widgets import *"
      ],
      "metadata": {
        "id": "EG5jg904LkaO"
      },
      "execution_count": 1,
      "outputs": []
    },
    {
      "cell_type": "code",
      "source": [
        "path = Path('/content/drive/MyDrive/3p/Inglês/Projeto 2')\n",
        "learn_inf = load_learner(path/'export.pkl', cpu=True)\n",
        "btn_upload = widgets.FileUpload()\n",
        "out_pl = widgets.Output()\n",
        "lbl_pred = widgets.Label()"
      ],
      "metadata": {
        "id": "1BBCHIGGL3O_"
      },
      "execution_count": 3,
      "outputs": []
    },
    {
      "cell_type": "code",
      "source": [
        "def on_data_change(change):\n",
        "    lbl_pred.value = ''\n",
        "    img = PILImage.create(btn_upload.data[-1])\n",
        "    out_pl.clear_output()\n",
        "    with out_pl: display(img.to_thumb(128,128))\n",
        "    pred,pred_idx,probs = learn_inf.predict(img)\n",
        "    lbl_pred.value = f'Prediction: {pred}; Probability: {probs[pred_idx]:.04f}'"
      ],
      "metadata": {
        "id": "zGeiuz8lLOd_"
      },
      "execution_count": 4,
      "outputs": []
    },
    {
      "cell_type": "code",
      "source": [
        "btn_upload.observe(on_data_change, names=['data'])"
      ],
      "metadata": {
        "id": "nE1TPiOdLPKv"
      },
      "execution_count": 5,
      "outputs": []
    },
    {
      "cell_type": "code",
      "source": [
        "display(VBox([widgets.Label('Select your drawing!'), btn_upload, out_pl, lbl_pred]))"
      ],
      "metadata": {
        "id": "b5-asw6ILPPH",
        "outputId": "3e94c40d-dd27-43d4-8a21-1e49d401d715",
        "colab": {
          "base_uri": "https://localhost:8080/",
          "height": 237,
          "referenced_widgets": [
            "bd22e677c64848a6af18357b37b2d057",
            "75bc4166a06340aab2c56592d38de2a9",
            "0357d57dd2f747328aabd4d6007f92a8",
            "092b1c15d4d34b4f8781e60a39f18f2c",
            "ce6a5b6e9eda43f48f321bbd279a6e05",
            "adbb2f9a242741a7a44f37b2a9c83d53",
            "f1768fc2fee148319e8af28a181721c1",
            "ad88c5a4210842f9a686f868891a2425",
            "59dad6bb8f184502a0984e98b36a9f0d",
            "bf149ec537094edbb499e7a431fa7d9b",
            "9a0be6a63e7d4db69fb831dbfe011fa4",
            "29db6d763dca4fa3ac2ec2386e38ed4c",
            "3ebd6a53aefe48248ec901405916f58a"
          ]
        }
      },
      "execution_count": 6,
      "outputs": [
        {
          "output_type": "display_data",
          "data": {
            "text/plain": [
              "VBox(children=(Label(value='Select your drawing!'), FileUpload(value={}, description='Upload'), Output(), Labe…"
            ],
            "application/vnd.jupyter.widget-view+json": {
              "version_major": 2,
              "version_minor": 0,
              "model_id": "bd22e677c64848a6af18357b37b2d057"
            }
          },
          "metadata": {}
        },
        {
          "output_type": "display_data",
          "data": {
            "text/plain": [
              "<IPython.core.display.HTML object>"
            ],
            "text/html": [
              "\n",
              "<style>\n",
              "    /* Turns off some styling */\n",
              "    progress {\n",
              "        /* gets rid of default border in Firefox and Opera. */\n",
              "        border: none;\n",
              "        /* Needs to be in here for Safari polyfill so background images work as expected. */\n",
              "        background-size: auto;\n",
              "    }\n",
              "    progress:not([value]), progress:not([value])::-webkit-progress-bar {\n",
              "        background: repeating-linear-gradient(45deg, #7e7e7e, #7e7e7e 10px, #5c5c5c 10px, #5c5c5c 20px);\n",
              "    }\n",
              "    .progress-bar-interrupted, .progress-bar-interrupted::-webkit-progress-bar {\n",
              "        background: #F44336;\n",
              "    }\n",
              "</style>\n"
            ]
          },
          "metadata": {}
        },
        {
          "output_type": "display_data",
          "data": {
            "text/plain": [
              "<IPython.core.display.HTML object>"
            ],
            "text/html": []
          },
          "metadata": {}
        },
        {
          "output_type": "display_data",
          "data": {
            "text/plain": [
              "<IPython.core.display.HTML object>"
            ],
            "text/html": [
              "\n",
              "<style>\n",
              "    /* Turns off some styling */\n",
              "    progress {\n",
              "        /* gets rid of default border in Firefox and Opera. */\n",
              "        border: none;\n",
              "        /* Needs to be in here for Safari polyfill so background images work as expected. */\n",
              "        background-size: auto;\n",
              "    }\n",
              "    progress:not([value]), progress:not([value])::-webkit-progress-bar {\n",
              "        background: repeating-linear-gradient(45deg, #7e7e7e, #7e7e7e 10px, #5c5c5c 10px, #5c5c5c 20px);\n",
              "    }\n",
              "    .progress-bar-interrupted, .progress-bar-interrupted::-webkit-progress-bar {\n",
              "        background: #F44336;\n",
              "    }\n",
              "</style>\n"
            ]
          },
          "metadata": {}
        },
        {
          "output_type": "display_data",
          "data": {
            "text/plain": [
              "<IPython.core.display.HTML object>"
            ],
            "text/html": []
          },
          "metadata": {}
        },
        {
          "output_type": "display_data",
          "data": {
            "text/plain": [
              "<IPython.core.display.HTML object>"
            ],
            "text/html": [
              "\n",
              "<style>\n",
              "    /* Turns off some styling */\n",
              "    progress {\n",
              "        /* gets rid of default border in Firefox and Opera. */\n",
              "        border: none;\n",
              "        /* Needs to be in here for Safari polyfill so background images work as expected. */\n",
              "        background-size: auto;\n",
              "    }\n",
              "    progress:not([value]), progress:not([value])::-webkit-progress-bar {\n",
              "        background: repeating-linear-gradient(45deg, #7e7e7e, #7e7e7e 10px, #5c5c5c 10px, #5c5c5c 20px);\n",
              "    }\n",
              "    .progress-bar-interrupted, .progress-bar-interrupted::-webkit-progress-bar {\n",
              "        background: #F44336;\n",
              "    }\n",
              "</style>\n"
            ]
          },
          "metadata": {}
        },
        {
          "output_type": "display_data",
          "data": {
            "text/plain": [
              "<IPython.core.display.HTML object>"
            ],
            "text/html": []
          },
          "metadata": {}
        },
        {
          "output_type": "display_data",
          "data": {
            "text/plain": [
              "<IPython.core.display.HTML object>"
            ],
            "text/html": [
              "\n",
              "<style>\n",
              "    /* Turns off some styling */\n",
              "    progress {\n",
              "        /* gets rid of default border in Firefox and Opera. */\n",
              "        border: none;\n",
              "        /* Needs to be in here for Safari polyfill so background images work as expected. */\n",
              "        background-size: auto;\n",
              "    }\n",
              "    progress:not([value]), progress:not([value])::-webkit-progress-bar {\n",
              "        background: repeating-linear-gradient(45deg, #7e7e7e, #7e7e7e 10px, #5c5c5c 10px, #5c5c5c 20px);\n",
              "    }\n",
              "    .progress-bar-interrupted, .progress-bar-interrupted::-webkit-progress-bar {\n",
              "        background: #F44336;\n",
              "    }\n",
              "</style>\n"
            ]
          },
          "metadata": {}
        },
        {
          "output_type": "display_data",
          "data": {
            "text/plain": [
              "<IPython.core.display.HTML object>"
            ],
            "text/html": []
          },
          "metadata": {}
        },
        {
          "output_type": "display_data",
          "data": {
            "text/plain": [
              "<IPython.core.display.HTML object>"
            ],
            "text/html": [
              "\n",
              "<style>\n",
              "    /* Turns off some styling */\n",
              "    progress {\n",
              "        /* gets rid of default border in Firefox and Opera. */\n",
              "        border: none;\n",
              "        /* Needs to be in here for Safari polyfill so background images work as expected. */\n",
              "        background-size: auto;\n",
              "    }\n",
              "    progress:not([value]), progress:not([value])::-webkit-progress-bar {\n",
              "        background: repeating-linear-gradient(45deg, #7e7e7e, #7e7e7e 10px, #5c5c5c 10px, #5c5c5c 20px);\n",
              "    }\n",
              "    .progress-bar-interrupted, .progress-bar-interrupted::-webkit-progress-bar {\n",
              "        background: #F44336;\n",
              "    }\n",
              "</style>\n"
            ]
          },
          "metadata": {}
        },
        {
          "output_type": "display_data",
          "data": {
            "text/plain": [
              "<IPython.core.display.HTML object>"
            ],
            "text/html": []
          },
          "metadata": {}
        }
      ]
    }
  ]
}